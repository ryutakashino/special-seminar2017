{
 "cells": [
  {
   "cell_type": "markdown",
   "metadata": {},
   "source": [
    "# 自作簡易IP回路を用いた7セグ回路デコーダの動作確認"
   ]
  },
  {
   "cell_type": "markdown",
   "metadata": {},
   "source": [
    "デフォルトの「４つのレジスタ(32bit*4=128bit=16byte)の読み書きIP」おけるslv_reg0[3:0]を取り出し、書き込まれた0-15の値を組み合わせ回路を通して、対応する7セグ8bitの信号に変換するIPです。"
   ]
  },
  {
   "cell_type": "code",
   "execution_count": 1,
   "metadata": {
    "collapsed": false
   },
   "outputs": [
    {
     "data": {
      "text/plain": [
       "{'SEG_my7seg_0_S00_AXI_reg': ['0x43C00000', '0x00010000', None]}"
      ]
     },
     "execution_count": 1,
     "metadata": {},
     "output_type": "execute_result"
    }
   ],
   "source": [
    "from pynq import Overlay\n",
    "Overlay(\"./my7segIP_v3.bit\").download()\n",
    "from pynq import PL\n",
    "PL.ip_dict"
   ]
  },
  {
   "cell_type": "markdown",
   "metadata": {},
   "source": [
    "#### 7セグに7を出力する。"
   ]
  },
  {
   "cell_type": "code",
   "execution_count": 2,
   "metadata": {
    "collapsed": false
   },
   "outputs": [],
   "source": [
    "#\"xilinx/pynq/mmio.py”と\"xilinx/pynq/pl.py\"を使っている\n",
    "#MMIOは/デバイスファイルdev/memを書き換えるための関数\n",
    "\n",
    "from pynq import MMIO\n",
    "from pynq import PL\n",
    "\n",
    "led = MMIO(int(PL.ip_dict[\"SEG_my7seg_0_S00_AXI_reg\"][0],16),4)\n",
    "led.write(0x0,0x7)"
   ]
  },
  {
   "cell_type": "markdown",
   "metadata": {},
   "source": [
    "#### 0.5秒間隔で0からFまでカウントアップする。"
   ]
  },
  {
   "cell_type": "code",
   "execution_count": 3,
   "metadata": {
    "collapsed": false
   },
   "outputs": [],
   "source": [
    "import time\n",
    "for i in range(16):\n",
    "    led.write(0x0,i)\n",
    "    time.sleep(.5)"
   ]
  },
  {
   "cell_type": "markdown",
   "metadata": {},
   "source": [
    "### 参考\n",
    "FPGA大全6-1"
   ]
  }
 ],
 "metadata": {
  "kernelspec": {
   "display_name": "Python 3",
   "language": "python",
   "name": "python3"
  },
  "language_info": {
   "codemirror_mode": {
    "name": "ipython",
    "version": 3
   },
   "file_extension": ".py",
   "mimetype": "text/x-python",
   "name": "python",
   "nbconvert_exporter": "python",
   "pygments_lexer": "ipython3",
   "version": "3.4.3+"
  }
 },
 "nbformat": 4,
 "nbformat_minor": 1
}

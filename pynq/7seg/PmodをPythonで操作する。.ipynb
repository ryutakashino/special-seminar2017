{
 "cells": [
  {
   "cell_type": "code",
   "execution_count": 1,
   "metadata": {
    "collapsed": true
   },
   "outputs": [],
   "source": [
    "#デフォルト回路の読み込み\n",
    "from pynq import Overlay\n",
    "# load Base Overlay\n",
    "Overlay(\"/home/xilinx/pynq/bitstream/base.bit\").download()"
   ]
  },
  {
   "cell_type": "markdown",
   "metadata": {},
   "source": [
    "Pmodに接続されているIPをPythonで操作する。方法はいくつかある。Pmod_LED8クラスのような専用クラスもある。"
   ]
  },
  {
   "cell_type": "code",
   "execution_count": 2,
   "metadata": {
    "collapsed": true
   },
   "outputs": [],
   "source": [
    "from pynq.iop import Pmod_LED8\n",
    "leds = Pmod_LED8(1,1)\n",
    "leds.on()\n",
    "leds.write(0)\n",
    "leds.toggle()"
   ]
  },
  {
   "cell_type": "markdown",
   "metadata": {},
   "source": [
    "今回はPmod_IOクラスを使う。Pmodの任意のピン(A/B,0-7)の入出力設定と出力を操作できる。\n",
    "以下はサンプルスクリプト。"
   ]
  },
  {
   "cell_type": "code",
   "execution_count": 3,
   "metadata": {
    "collapsed": false
   },
   "outputs": [],
   "source": [
    "from pynq.iop import Pmod_IO\n",
    "sample = Pmod_IO(1, 1, 'out')\n",
    "sample.write(1)"
   ]
  },
  {
   "cell_type": "code",
   "execution_count": 4,
   "metadata": {
    "collapsed": false
   },
   "outputs": [],
   "source": [
    "#pinsリストにPmod_IOクラスオブジェクトを入れる。リストの要素のwriteメソッドを呼び出せばピンの挙動を操作できる。\n",
    "from pynq.iop import Pmod_IO\n",
    "pins = []\n",
    "for i in range(8):\n",
    "    pins.append(Pmod_IO(1, i, 'out'))\n",
    "state = [0,0,0,0,0,0,1,0]\n",
    "for i in range(8):\n",
    "    pins[i].write(state[i])"
   ]
  },
  {
   "cell_type": "markdown",
   "metadata": {},
   "source": [
    "サンプルプログラム  \n",
    "数を2進数にしてから、ビットシフト。bin(i)ではstr型なのでint(,base=2)で2進数intに変換してから、「かつ」を行う。"
   ]
  },
  {
   "cell_type": "code",
   "execution_count": 10,
   "metadata": {
    "collapsed": false
   },
   "outputs": [
    {
     "data": {
      "text/plain": [
       "0"
      ]
     },
     "execution_count": 10,
     "metadata": {},
     "output_type": "execute_result"
    }
   ],
   "source": [
    "b = int(bin(5>>3),base=2)\n",
    "b & 0b0000001"
   ]
  },
  {
   "cell_type": "code",
   "execution_count": 6,
   "metadata": {
    "collapsed": false
   },
   "outputs": [
    {
     "name": "stdout",
     "output_type": "stream",
     "text": [
      "0b0\n",
      "0b1\n",
      "0b10\n",
      "0b11\n",
      "0b100\n",
      "0b101\n",
      "0b110\n",
      "0b111\n",
      "0b1000\n",
      "0b1001\n",
      "0b1010\n",
      "0b1011\n",
      "0b1100\n",
      "0b1101\n",
      "0b1110\n",
      "0b1111\n",
      "0b10000\n",
      "0b10001\n",
      "0b10010\n",
      "0b10011\n",
      "0b10100\n",
      "0b10101\n",
      "0b10110\n",
      "0b10111\n",
      "0b11000\n",
      "0b11001\n",
      "0b11010\n",
      "0b11011\n",
      "0b11100\n",
      "0b11101\n",
      "0b11110\n",
      "0b11111\n",
      "0b100000\n",
      "0b100001\n",
      "0b100010\n",
      "0b100011\n",
      "0b100100\n",
      "0b100101\n",
      "0b100110\n",
      "0b100111\n",
      "0b101000\n",
      "0b101001\n",
      "0b101010\n",
      "0b101011\n",
      "0b101100\n",
      "0b101101\n",
      "0b101110\n",
      "0b101111\n",
      "0b110000\n",
      "0b110001\n",
      "0b110010\n",
      "0b110011\n",
      "0b110100\n",
      "0b110101\n",
      "0b110110\n",
      "0b110111\n",
      "0b111000\n",
      "0b111001\n",
      "0b111010\n",
      "0b111011\n",
      "0b111100\n",
      "0b111101\n",
      "0b111110\n",
      "0b111111\n",
      "0b1000000\n",
      "0b1000001\n",
      "0b1000010\n",
      "0b1000011\n",
      "0b1000100\n",
      "0b1000101\n",
      "0b1000110\n",
      "0b1000111\n",
      "0b1001000\n",
      "0b1001001\n",
      "0b1001010\n",
      "0b1001011\n",
      "0b1001100\n",
      "0b1001101\n",
      "0b1001110\n",
      "0b1001111\n",
      "0b1010000\n",
      "0b1010001\n",
      "0b1010010\n",
      "0b1010011\n",
      "0b1010100\n",
      "0b1010101\n",
      "0b1010110\n",
      "0b1010111\n",
      "0b1011000\n",
      "0b1011001\n",
      "0b1011010\n",
      "0b1011011\n",
      "0b1011100\n",
      "0b1011101\n",
      "0b1011110\n",
      "0b1011111\n",
      "0b1100000\n",
      "0b1100001\n",
      "0b1100010\n",
      "0b1100011\n",
      "0b1100100\n",
      "0b1100101\n",
      "0b1100110\n",
      "0b1100111\n",
      "0b1101000\n",
      "0b1101001\n",
      "0b1101010\n",
      "0b1101011\n",
      "0b1101100\n",
      "0b1101101\n",
      "0b1101110\n",
      "0b1101111\n",
      "0b1110000\n",
      "0b1110001\n",
      "0b1110010\n",
      "0b1110011\n",
      "0b1110100\n",
      "0b1110101\n",
      "0b1110110\n",
      "0b1110111\n",
      "0b1111000\n",
      "0b1111001\n",
      "0b1111010\n",
      "0b1111011\n",
      "0b1111100\n",
      "0b1111101\n",
      "0b1111110\n",
      "0b1111111\n",
      "0b10000000\n",
      "0b10000001\n",
      "0b10000010\n",
      "0b10000011\n",
      "0b10000100\n",
      "0b10000101\n",
      "0b10000110\n",
      "0b10000111\n",
      "0b10001000\n",
      "0b10001001\n",
      "0b10001010\n",
      "0b10001011\n",
      "0b10001100\n",
      "0b10001101\n",
      "0b10001110\n",
      "0b10001111\n",
      "0b10010000\n",
      "0b10010001\n",
      "0b10010010\n",
      "0b10010011\n",
      "0b10010100\n",
      "0b10010101\n",
      "0b10010110\n",
      "0b10010111\n",
      "0b10011000\n",
      "0b10011001\n",
      "0b10011010\n",
      "0b10011011\n",
      "0b10011100\n",
      "0b10011101\n",
      "0b10011110\n",
      "0b10011111\n",
      "0b10100000\n",
      "0b10100001\n",
      "0b10100010\n",
      "0b10100011\n",
      "0b10100100\n",
      "0b10100101\n",
      "0b10100110\n",
      "0b10100111\n",
      "0b10101000\n",
      "0b10101001\n",
      "0b10101010\n",
      "0b10101011\n",
      "0b10101100\n",
      "0b10101101\n",
      "0b10101110\n",
      "0b10101111\n",
      "0b10110000\n",
      "0b10110001\n",
      "0b10110010\n",
      "0b10110011\n",
      "0b10110100\n",
      "0b10110101\n",
      "0b10110110\n",
      "0b10110111\n",
      "0b10111000\n",
      "0b10111001\n",
      "0b10111010\n",
      "0b10111011\n",
      "0b10111100\n",
      "0b10111101\n",
      "0b10111110\n",
      "0b10111111\n",
      "0b11000000\n",
      "0b11000001\n",
      "0b11000010\n",
      "0b11000011\n",
      "0b11000100\n",
      "0b11000101\n",
      "0b11000110\n",
      "0b11000111\n",
      "0b11001000\n",
      "0b11001001\n",
      "0b11001010\n",
      "0b11001011\n",
      "0b11001100\n",
      "0b11001101\n",
      "0b11001110\n",
      "0b11001111\n",
      "0b11010000\n",
      "0b11010001\n",
      "0b11010010\n",
      "0b11010011\n",
      "0b11010100\n",
      "0b11010101\n",
      "0b11010110\n",
      "0b11010111\n",
      "0b11011000\n",
      "0b11011001\n",
      "0b11011010\n",
      "0b11011011\n",
      "0b11011100\n",
      "0b11011101\n",
      "0b11011110\n",
      "0b11011111\n",
      "0b11100000\n",
      "0b11100001\n",
      "0b11100010\n",
      "0b11100011\n",
      "0b11100100\n",
      "0b11100101\n",
      "0b11100110\n",
      "0b11100111\n",
      "0b11101000\n",
      "0b11101001\n",
      "0b11101010\n",
      "0b11101011\n",
      "0b11101100\n",
      "0b11101101\n",
      "0b11101110\n",
      "0b11101111\n",
      "0b11110000\n",
      "0b11110001\n",
      "0b11110010\n",
      "0b11110011\n",
      "0b11110100\n",
      "0b11110101\n",
      "0b11110110\n",
      "0b11110111\n",
      "0b11111000\n",
      "0b11111001\n",
      "0b11111010\n",
      "0b11111011\n",
      "0b11111100\n",
      "0b11111101\n",
      "0b11111110\n",
      "0b11111111\n"
     ]
    }
   ],
   "source": [
    "#Pmodに0b00000000から0b11111111まですべてを代入する\n",
    "from pynq.iop import Pmod_IO\n",
    "import time\n",
    "pins = []\n",
    "for i in range(8):\n",
    "    pins.append(Pmod_IO(1, i, 'out'))\n",
    "    \n",
    "for i in range(256):\n",
    "    for j in range(8):\n",
    "        pins[j].write(int(bin(i>>j),base=2) & 0b00000001)\n",
    "    print(bin(i))\n",
    "    time.sleep(.1)      "
   ]
  },
  {
   "cell_type": "markdown",
   "metadata": {},
   "source": [
    "pin7がHの時は左サイド(ブザー側)の7セグが光る。Lのときは右サイドの7セグが光る。"
   ]
  },
  {
   "cell_type": "markdown",
   "metadata": {},
   "source": [
    "このPmodモジュールの上にあるのトランジスタはNPN型。文字がある側の左から、エミッタ(E)、コレクタ(C)、ベース(B)である。Bに電流が流れると、EとCの間が通電する。電気スイッチの役割を果たしている。"
   ]
  },
  {
   "cell_type": "code",
   "execution_count": 7,
   "metadata": {
    "collapsed": false
   },
   "outputs": [
    {
     "name": "stdout",
     "output_type": "stream",
     "text": [
      "end\n"
     ]
    }
   ],
   "source": [
    "#ブザーを鳴らす。pin7のH/Lを繰り返す。sleepが短いほど高い音になる。\n",
    "#SW0がHになっている間はなり続けるが、Lになると止まりendと表示して終わる。\n",
    "from pynq.iop import Pmod_IO\n",
    "import time\n",
    "from pynq.board import Switch\n",
    "pin = Pmod_IO(1, 7, 'out')\n",
    "switch = Switch(0)\n",
    "while switch.read():\n",
    "    pin.write(1)\n",
    "    time.sleep(.002)\n",
    "    pin.write(0)\n",
    "    \n",
    "print('end')"
   ]
  },
  {
   "cell_type": "markdown",
   "metadata": {},
   "source": [
    "7セグを操作するクラスを用意する。"
   ]
  },
  {
   "cell_type": "code",
   "execution_count": 8,
   "metadata": {
    "collapsed": false
   },
   "outputs": [],
   "source": [
    "from pynq.iop import Pmod_IO\n",
    "#ピンの設定\n",
    "pins = []\n",
    "for i in range(8):\n",
    "    pins.append(Pmod_IO(1, i, 'out'))\n",
    "class Seg7(object):\n",
    "    out = [[]*8]*6\n",
    "    out[0] = [1,1,1,1,0,1,1,0]\n",
    "    out[1] = [0,1,0,0,0,0,1,0]\n",
    "    out[2] = [0,1,1,1,1,1,0,0]\n",
    "    out[3] = [0,1,1,0,1,1,1,0]\n",
    "    out[4] = [1,1,0,0,1,0,1,0]\n",
    "    out[5] = [1,0,1,0,1,1,1,0]\n",
    "    \n",
    "    def output(self, num):\n",
    "        for i in range(8):\n",
    "          pins[i].write(self.out[num][i])\n",
    "    def clear(self):\n",
    "        for i in range(8):\n",
    "          pins[i].write(0)        "
   ]
  },
  {
   "cell_type": "markdown",
   "metadata": {},
   "source": [
    "5から0へカウントダウンする。"
   ]
  },
  {
   "cell_type": "code",
   "execution_count": 9,
   "metadata": {
    "collapsed": false
   },
   "outputs": [],
   "source": [
    "import time\n",
    "seg = Seg7()\n",
    "for i in range(6):\n",
    "    seg.output(5-i)\n",
    "    time.sleep(1)\n",
    "    seg.clear()\n",
    "    "
   ]
  },
  {
   "cell_type": "code",
   "execution_count": null,
   "metadata": {
    "collapsed": true
   },
   "outputs": [],
   "source": []
  }
 ],
 "metadata": {
  "kernelspec": {
   "display_name": "Python 3",
   "language": "python",
   "name": "python3"
  },
  "language_info": {
   "codemirror_mode": {
    "name": "ipython",
    "version": 3
   },
   "file_extension": ".py",
   "mimetype": "text/x-python",
   "name": "python",
   "nbconvert_exporter": "python",
   "pygments_lexer": "ipython3",
   "version": "3.4.3+"
  }
 },
 "nbformat": 4,
 "nbformat_minor": 1
}

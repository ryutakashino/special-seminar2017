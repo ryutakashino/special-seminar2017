{
 "cells": [
  {
   "cell_type": "markdown",
   "metadata": {},
   "source": [
    "# 自作簡易IPを用いたLED回路の動作確認ノートブック"
   ]
  },
  {
   "cell_type": "markdown",
   "metadata": {},
   "source": [
    "myip_0というIPを自作してLED回路を組みました。\n",
    "myip_0はデフォルトの「４つのレジスタ(32bit*4=128bit=16byte)の読み書きIP」において、内部レジスタslv_reg0[3:0]の内容を出力するよう書き換えたものです。たった２行程度の追加で、LEDの点滅がslv_reg0[3:0]と対応します。「FPGA大全」6-1に従って作成しました。\n",
    "なお、このIPは標準IPの\"AXI GPIO\"におけるOutput GPIO Widthを4にしたものとほぼ同じものです。\n",
    "\n",
    "Overlay(\"./led_overlay.bit\").download()で回路(bitファイル)を読み込むことが出来る。"
   ]
  },
  {
   "cell_type": "code",
   "execution_count": 1,
   "metadata": {
    "collapsed": false
   },
   "outputs": [],
   "source": [
    "from pynq import Overlay\n",
    "# load Base Overlay\n",
    "Overlay(\"./myip.bit\").download()"
   ]
  },
  {
   "cell_type": "markdown",
   "metadata": {},
   "source": [
    "myip.bitは次のようになっている。\n",
    "![](0607A_MYIP - [C__Users_ryuta_Documents_vivado_2016.1_0607A_MYIP_0607A_MYIP.xpr] - Vivado 2016.1 2017_06_15 20_30_49.png)"
   ]
  },
  {
   "cell_type": "markdown",
   "metadata": {},
   "source": [
    "上記回路のmyip_0内にあるレジスタにアクセスすることでLEDの挙動を変化させることが出来る。tclファイルではSEG_myip_0_S00_AXI_regに対応する。myip_0のVerilogファイル名がmyip_0_S00_AXIであり、ビットストリームの生成時に回路の名前の先頭にSEG_が追加され、語尾に_Regが追加されるようだ。  \n",
    "\n",
    "このSEG_myip_0_S00_AXI_regにアクセスするためには、そのベースアドレスを知る必要がある。PYNQではbitファイルの読み込みとともに、tclファイルの情報を解析し、ip_dictという名前の辞書が作成される。回路名とそのアドレス、オフセット、状態(デフォルトはNone)が一つにまとまっており、回路の名前からアドレスやその他の情報を調べることが出来る。"
   ]
  },
  {
   "cell_type": "markdown",
   "metadata": {},
   "source": [
    "##### ip_dictについて(PYNQ公式ドキュメントより引用)\n",
    ">The Overlay package generates a dictionary called ip_dict containing the names of IP in a specific overlay (e.g. base.bit). The dictionary can be used to reference an IP by name in your Python code, rather than by a hard coded address. It can also check the IP available in an overlay.  \n",
    "...  \n",
    ">Note, this parses the tcl file that was exported with the bitstream. It does not do check the overlay currently running in the PL.  \n",
    "http://pynq.readthedocs.io/en/latest/16_creating_overlays.html"
   ]
  },
  {
   "cell_type": "code",
   "execution_count": 2,
   "metadata": {
    "collapsed": false
   },
   "outputs": [
    {
     "data": {
      "text/plain": [
       "{'SEG_myip_0_S00_AXI_reg': ['0x43C00000', '0x00010000', None]}"
      ]
     },
     "execution_count": 2,
     "metadata": {},
     "output_type": "execute_result"
    }
   ],
   "source": [
    "#ip_dictは辞書。ビットストリームファイルが読み込まれると同時に作成される。\n",
    "from pynq import PL\n",
    "PL.ip_dict"
   ]
  },
  {
   "cell_type": "markdown",
   "metadata": {},
   "source": [
    "### LEDを点灯させる(以下のコードではLEDが全て点灯する)"
   ]
  },
  {
   "cell_type": "code",
   "execution_count": 3,
   "metadata": {
    "collapsed": false
   },
   "outputs": [],
   "source": [
    "#\"xilinx/pynq/mmio.py”と\"xilinx/pynq/pl.py\"を使っている\n",
    "#MMIOクラスは/デバイスファイルdev/memを書き換えるためのもの。PLクラスはレジスタのアドレスを取得するためのもの。\n",
    "\n",
    "from pynq import MMIO\n",
    "from pynq import PL\n",
    "\n",
    "led = MMIO(int(PL.ip_dict[\"SEG_myip_0_S00_AXI_reg\"][0],16),4)\n",
    "led.write(0x0,15) #第二引数が0xFでも0B1111でも同じ挙動を示す。"
   ]
  },
  {
   "cell_type": "markdown",
   "metadata": {},
   "source": [
    "#### メモ\n",
    "MMIO関数の説明\n",
    "http://pynq.readthedocs.io/en/latest/pynq.html#module-pynq.mmio  \n",
    "MMIOクラスのインスタンス作成時の第二引数はlengthだ。int型。説明を抜粋\n",
    "> The length in bytes of the address range.  \n",
    "アドレス範囲の長さ（バイト単位）"
   ]
  },
  {
   "cell_type": "markdown",
   "metadata": {},
   "source": [
    "### 参考\n",
    "- FPGA大全　6-1簡易IP作成機能を使った自作IPの作成  \n",
    "https://www.amazon.co.jp/FPGA%E3%83%97%E3%83%AD%E3%82%B0%E3%83%A9%E3%83%9F%E3%83%B3%E3%82%B0%E5%A4%A7%E5%85%A8-Xilinx%E7%B7%A8-%E5%B0%8F%E6%9E%97-%E5%84%AA/dp/4798047538\n",
    "- Document Creating Overlays  \n",
    "http://pynq.readthedocs.io/en/latest/16_creating_overlays.html?highlight=tcl  \n",
    "- Overlayとpythonのやり取りについて網羅しているサイト。  \n",
    "http://todotani.cocolog-nifty.com/blog/2017/01/pynq-z1overlayp.html  \n",
    "- xilinx/pynq/pl.pyのコード  \n",
    "http://pynq.readthedocs.io/en/latest/_modules/pynq/pl.html  \n",
    "- xilinx/pynq/mmio.pyのコード   \n",
    "http://pynq.readthedocs.io/en/latest/_modules/pynq/mmio.html\n",
    "- その他クラスのドキュメント    \n",
    "http://pynq.readthedocs.io/en/latest/modules.html"
   ]
  }
 ],
 "metadata": {
  "kernelspec": {
   "display_name": "Python 3",
   "language": "python",
   "name": "python3"
  },
  "language_info": {
   "codemirror_mode": {
    "name": "ipython",
    "version": 3
   },
   "file_extension": ".py",
   "mimetype": "text/x-python",
   "name": "python",
   "nbconvert_exporter": "python",
   "pygments_lexer": "ipython3",
   "version": "3.4.3+"
  }
 },
 "nbformat": 4,
 "nbformat_minor": 1
}
